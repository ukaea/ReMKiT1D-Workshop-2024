{
 "cells": [
  {
   "attachments": {},
   "cell_type": "markdown",
   "metadata": {},
   "source": [
    "## Example workbook - highly composite derivations\n",
    "\n",
    "This notebook is an extension of hands-on session 2.4 including the ion species in the temperature model. For a more pedagogical explanation, see that workbook."
   ]
  },
  {
   "cell_type": "code",
   "execution_count": 1,
   "metadata": {},
   "outputs": [],
   "source": [
    "import numpy as np\n",
    "\n",
    "import holoviews as hv\n",
    "import matplotlib.pyplot as plt\n",
    "import panel as pn\n",
    "\n",
    "import anisotropy as aniso\n",
    "import RMK_support.simple_containers as sc\n",
    "import RMK_support.common_models as cm \n",
    "import RMK_support.IO_support as io\n",
    "from RMK_support import RKWrapper, Grid, treeDerivation, Node, erf\n",
    "import RMK_support.dashboard_support as ds"
   ]
  },
  {
   "attachments": {},
   "cell_type": "markdown",
   "metadata": {},
   "source": [
    "## Basic setup"
   ]
  },
  {
   "cell_type": "code",
   "execution_count": 2,
   "metadata": {},
   "outputs": [],
   "source": [
    "#Wrapper initialization\n",
    "rk = RKWrapper()\n",
    "\n",
    "#I/O setuo\n",
    "rk.jsonFilepath = \"./config.json\" \n",
    "hdf5Filepath = \"./RMKOutput/day_2_4/\"\n",
    "rk.setHDF5Path(hdf5Filepath) \n",
    "\n",
    "#Grid initialization\n",
    "xGridWidths = np.ones(2)\n",
    "rk.grid = Grid(xGridWidths, interpretXGridAsWidths=True)"
   ]
  },
  {
   "attachments": {},
   "cell_type": "markdown",
   "metadata": {},
   "source": [
    "## Normalisation"
   ]
  },
  {
   "cell_type": "code",
   "execution_count": 3,
   "metadata": {},
   "outputs": [],
   "source": [
    "elCharge = 1.60218e-19\n",
    "elMass = 9.10938e-31 # electron mass unit\n",
    "amu = 1.6605390666e-27  # atomic mass unit\n",
    "heavySpeciesMass = 2.014  # in amus\n",
    "ionMass = heavySpeciesMass*amu  # deuterium mass\n",
    "\n",
    "rk.setNormDensity(1.0e19)\n",
    "rk.setNormTemperature(10.0)\n",
    "rk.setNormRefZ(1.0)"
   ]
  },
  {
   "attachments": {},
   "cell_type": "markdown",
   "metadata": {},
   "source": [
    "## Handling particle species data"
   ]
  },
  {
   "cell_type": "code",
   "execution_count": 4,
   "metadata": {},
   "outputs": [],
   "source": [
    "rk.addSpecies(\"e\", speciesID=0, atomicA=elMass/amu, charge=-1.0, associatedVars=[\"ne\", \"Ge\", \"WePar\", \"WePerp\"])\n",
    "rk.addSpecies(\"D+\", speciesID=-1, atomicA=heavySpeciesMass, charge=1.0, associatedVars=[\"ni\", \"Gi\", \"WiPar\", \"WiPerp\"])\n",
    "\n",
    "electronSpecies = rk.getSpecies(\"e\")\n",
    "ionSpecies = rk.getSpecies(\"D+\")"
   ]
  },
  {
   "attachments": {},
   "cell_type": "markdown",
   "metadata": {},
   "source": [
    "## Base variables "
   ]
  },
  {
   "cell_type": "code",
   "execution_count": 5,
   "metadata": {},
   "outputs": [],
   "source": [
    "TePar = 2*np.ones(2)\n",
    "TePerp = 5*np.ones(2)\n",
    "TiPar = 8*np.ones(2)\n",
    "TiPerp = 10*np.ones(2)\n",
    "\n",
    "ne = np.ones(2)\n",
    "ni = np.ones(2)\n",
    "\n",
    "WePar = ne*TePar/2\n",
    "WePerp = ne*TePerp\n",
    "WiPar = ni*TiPar/2\n",
    "WiPerp = ni*TiPerp"
   ]
  },
  {
   "cell_type": "code",
   "execution_count": 6,
   "metadata": {},
   "outputs": [],
   "source": [
    "# Implicit variables\n",
    "rk.addVarAndDual(\"ne\", ne, units='$10^{19} m^{-3}$', isCommunicated=True)\n",
    "rk.addVarAndDual(\"ni\", ni, units='$10^{19} m^{-3}$', isCommunicated=True)\n",
    "rk.addVarAndDual(\"Ge\", primaryOnDualGrid=True, isCommunicated=True)\n",
    "rk.addVarAndDual(\"Gi\", primaryOnDualGrid=True, isCommunicated=True)\n",
    "rk.addVarAndDual(\"WePar\", WePar, units='$10^{20} eV m^{-3}$', isCommunicated=True)\n",
    "rk.addVarAndDual(\"WePerp\", WePerp, units='$10^{20} eV m^{-3}$', isCommunicated=True)\n",
    "rk.addVarAndDual(\"WiPar\", WiPar, units='$10^{20} eV m^{-3}$', isCommunicated=True)\n",
    "rk.addVarAndDual(\"WiPerp\", WiPerp, units='$10^{20} eV m^{-3}$', isCommunicated=True)\n",
    "\n",
    "# Temperatures\n",
    "rk.addVarAndDual(\"TePar\", TePar, isStationary=True, units='$10eV$', isCommunicated=True)\n",
    "rk.addVarAndDual(\"TePerp\", TePerp, isStationary=True, units='$10eV$', isCommunicated=True)\n",
    "rk.addVarAndDual(\"TiPar\", TiPar, isStationary=True, units='$10eV$', isCommunicated=True)\n",
    "rk.addVarAndDual(\"TiPerp\", TiPerp, isStationary=True, units='$10eV$', isCommunicated=True)"
   ]
  },
  {
   "attachments": {},
   "cell_type": "markdown",
   "metadata": {},
   "source": [
    "## Anisotropic variables"
   ]
  },
  {
   "cell_type": "code",
   "execution_count": 7,
   "metadata": {},
   "outputs": [],
   "source": [
    "rk.addVarAndDual(\"collFreq\", np.ones(2),isDerived=True, isCommunicated=True)"
   ]
  },
  {
   "cell_type": "code",
   "execution_count": 8,
   "metadata": {},
   "outputs": [],
   "source": [
    "rk.addVarAndDual(\"betaPare\", isDerived=True, derivationRule=sc.derivationRule(\"betaPare\",(\"TePar\",\"TePar\")),\n",
    "                 derivOptions=treeDerivation(aniso.betasr(\"TePar\",\"TePar\",elMass,elMass)))\n",
    "rk.addVarAndDual(\"betaPerpe\", isDerived=True, derivationRule=sc.derivationRule(\"betaPerpe\",(\"TePerp\",\"TePerp\")),\n",
    "                 derivOptions=treeDerivation(aniso.betasr(\"TePerp\",\"TePerp\",elMass,elMass)))\n",
    "rk.addVarAndDual(\"betaPari\", isDerived=True, derivationRule=sc.derivationRule(\"betaPari\",(\"TiPar\",\"TiPar\")),\n",
    "                 derivOptions=treeDerivation(aniso.betasr(\"TiPar\",\"TiPar\",ionMass,ionMass)))\n",
    "rk.addVarAndDual(\"betaPerpi\", isDerived=True, derivationRule=sc.derivationRule(\"betaPerpi\",(\"TiPerp\",\"TiPerp\")),\n",
    "                 derivOptions=treeDerivation(aniso.betasr(\"TiPerp\",\"TiPerp\",ionMass,ionMass)))"
   ]
  },
  {
   "cell_type": "code",
   "execution_count": 9,
   "metadata": {},
   "outputs": [],
   "source": [
    "rk.addVarAndDual(\"alphae\", isDerived=True, derivationRule=sc.derivationRule(\"alphae\",(\"TePar\",\"TePerp\",\"TePar\",\"TePerp\")),\n",
    "                 derivOptions=treeDerivation(aniso.alphasr(\"TePar\",\"TePerp\",\"TePar\",\"TePerp\",elMass,elMass)))\n",
    "rk.addVarAndDual(\"alphai\", isDerived=True, derivationRule=sc.derivationRule(\"alphai\",(\"TiPar\",\"TiPerp\",\"TiPar\",\"TiPerp\")),\n",
    "                 derivOptions=treeDerivation(aniso.alphasr(\"TiPar\",\"TiPerp\",\"TiPar\",\"TiPerp\",ionMass,ionMass)))\n",
    "\n",
    "rk.addCustomDerivation(\"K200e\", treeDerivation(aniso.K_LMN(Node(\"alphae\"),\"200\")))\n",
    "rk.addCustomDerivation(\"K002e\", treeDerivation(aniso.K_LMN(Node(\"alphae\"),\"002\")))\n",
    "rk.addCustomDerivation(\"K200i\", treeDerivation(aniso.K_LMN(Node(\"alphai\"),\"200\")))\n",
    "rk.addCustomDerivation(\"K002i\", treeDerivation(aniso.K_LMN(Node(\"alphai\"),\"002\")))\n",
    "\n",
    "rk.addCustomDerivation(\"K200eSmall\", treeDerivation(aniso.K_LMN(Node(\"alphae\"),\"200\",True)))\n",
    "rk.addCustomDerivation(\"K002eSmall\", treeDerivation(aniso.K_LMN(Node(\"alphae\"),\"002\",True)))\n",
    "rk.addCustomDerivation(\"K200iSmall\", treeDerivation(aniso.K_LMN(Node(\"alphai\"),\"200\",True)))\n",
    "rk.addCustomDerivation(\"K002iSmall\", treeDerivation(aniso.K_LMN(Node(\"alphai\"),\"002\",True)))"
   ]
  },
  {
   "cell_type": "code",
   "execution_count": 10,
   "metadata": {},
   "outputs": [],
   "source": [
    "\n",
    "rk.addCustomDerivation(\"filterSmallVals200e\", sc.rangeFilterDerivation(\"K200eSmall\",[1],[[-0.01,0.01]],[2]))\n",
    "rk.addCustomDerivation(\"filterPlusLarge200e\", sc.rangeFilterDerivation(\"K200e\",[1],[[0.01,1e16]],[2]))\n",
    "rk.addCustomDerivation(\"filterMinusLarge200e\", sc.rangeFilterDerivation(\"K200e\",[1],[[-1e16,-0.01]],[2]))\n",
    "\n",
    "rk.addCustomDerivation(\"filterSmallVals002e\", sc.rangeFilterDerivation(\"K002eSmall\",[1],[[-0.01,0.01]],[2]))\n",
    "rk.addCustomDerivation(\"filterPlusLarge002e\", sc.rangeFilterDerivation(\"K002e\",[1],[[0.01,1e16]],[2]))\n",
    "rk.addCustomDerivation(\"filterMinusLarge002e\", sc.rangeFilterDerivation(\"K002e\",[1],[[-1e16,-0.01]],[2]))\n",
    "\n",
    "rk.addCustomDerivation(\"filterSmallVals200i\", sc.rangeFilterDerivation(\"K200iSmall\",[1],[[-0.01,0.01]],[2]))\n",
    "rk.addCustomDerivation(\"filterPlusLarge200i\", sc.rangeFilterDerivation(\"K200i\",[1],[[0.01,1e16]],[2]))\n",
    "rk.addCustomDerivation(\"filterMinusLarge200i\", sc.rangeFilterDerivation(\"K200i\",[1],[[-1e16,-0.01]],[2]))\n",
    "\n",
    "rk.addCustomDerivation(\"filterSmallVals002i\", sc.rangeFilterDerivation(\"K002iSmall\",[1],[[-0.01,0.01]],[2]))\n",
    "rk.addCustomDerivation(\"filterPlusLarge002i\", sc.rangeFilterDerivation(\"K002i\",[1],[[0.01,1e16]],[2]))\n",
    "rk.addCustomDerivation(\"filterMinusLarge002i\", sc.rangeFilterDerivation(\"K002i\",[1],[[-1e16,-0.01]],[2]))"
   ]
  },
  {
   "cell_type": "code",
   "execution_count": 11,
   "metadata": {},
   "outputs": [],
   "source": [
    "\n",
    "rk.addVarAndDual(\"Xe\", isDerived=True, derivationRule=sc.derivationRule(\"XeDeriv\", (\"TePar\",\"TePerp\",\"TePar\",\"TePerp\")),\n",
    "                 derivOptions=treeDerivation(aniso.alphasr(\"TePar\",\"TePerp\",\"TePar\",\"TePerp\",elMass,elMass) - 1))\n",
    "\n",
    "rk.addVarAndDual(\"Xi\", isDerived=True, derivationRule=sc.derivationRule(\"XiDeriv\", (\"TiPar\",\"TiPerp\",\"TiPar\",\"TiPerp\")),\n",
    "                 derivOptions=treeDerivation(aniso.alphasr(\"TiPar\",\"TiPerp\",\"TiPar\",\"TiPerp\",ionMass,ionMass) - 1))\n",
    "\n",
    "rk.addVarAndDual(\"K200e\", isDerived=True, derivationRule=sc.derivationRule(\"filteredK200e\",[\"Xe\",\"alphae\"]),\n",
    "                 derivOptions=sc.additiveDerivation([\"filterSmallVals200e\",\"filterPlusLarge200e\",\"filterMinusLarge200e\"],1.,[[1,2]]*3,[1,1,1]))\n",
    "\n",
    "rk.addVarAndDual(\"K002e\", isDerived=True, derivationRule=sc.derivationRule(\"filteredK002e\",[\"Xe\",\"alphae\"]),\n",
    "                 derivOptions=sc.additiveDerivation([\"filterSmallVals002e\",\"filterPlusLarge002e\",\"filterMinusLarge002e\"],1.,[[1,2]]*3,[1,1,1]))\n",
    "\n",
    "rk.addVarAndDual(\"K200i\", isDerived=True, derivationRule=sc.derivationRule(\"filteredK200i\",[\"Xi\",\"alphai\"]),\n",
    "                 derivOptions=sc.additiveDerivation([\"filterSmallVals200i\",\"filterPlusLarge200i\",\"filterMinusLarge200i\"],1.,[[1,2]]*3,[1,1,1]))\n",
    "\n",
    "rk.addVarAndDual(\"K002i\", isDerived=True, derivationRule=sc.derivationRule(\"filteredK002i\",[\"Xi\",\"alphai\"]),\n",
    "                 derivOptions=sc.additiveDerivation([\"filterSmallVals002i\",\"filterPlusLarge002i\",\"filterMinusLarge002i\"],1.,[[1,2]]*3,[1,1,1]))\n"
   ]
  },
  {
   "attachments": {},
   "cell_type": "markdown",
   "metadata": {},
   "source": [
    "## Implicit temperature derivation"
   ]
  },
  {
   "cell_type": "code",
   "execution_count": 12,
   "metadata": {},
   "outputs": [
    {
     "name": "stdout",
     "output_type": "stream",
     "text": [
      "Checking terms in model implicitTempIonPar:\n",
      "   Checking term identityTermTiPar\n",
      "   Checking term wTermTiPar\n",
      "   Checking term u2TermTiPar\n",
      "Checking terms in model implicitTempIonPerp:\n",
      "   Checking term identityTermTiPerp\n",
      "   Checking term wTermTiPerp\n",
      "   Checking term u2TermTiPerp\n"
     ]
    }
   ],
   "source": [
    "# Implicit temperature equations\n",
    "\n",
    "# Adding the model tag to tag list\n",
    "modelTag = \"implicitTempIonPar\"\n",
    "\n",
    "# Initializing model\n",
    "implicitTempModelPar = cm.implicitTemperatures(modelTag=modelTag,\n",
    "                                            speciesFluxes=[\"Gi_dual\"],\n",
    "                                            speciesDensities=[\"ni\"],\n",
    "                                            speciesEnergies=[\"WiPar\"],\n",
    "                                            speciesTemperatures=[\"TiPar\"],\n",
    "                                            species=[ionSpecies],\n",
    "                                            speciesDensitiesDual=[\"ni_dual\"],\n",
    "                                            degreesOfFreedom=1)\n",
    "\n",
    "rk.addModel(implicitTempModelPar)\n",
    "\n",
    "# Adding the model tag to tag list\n",
    "modelTag = \"implicitTempIonPerp\"\n",
    "\n",
    "# Initializing model\n",
    "implicitTempModelPerp = cm.implicitTemperatures(modelTag=modelTag,\n",
    "                                            speciesFluxes=[\"Gi_dual\"],\n",
    "                                            speciesDensities=[\"ni\"],\n",
    "                                            speciesEnergies=[\"WiPerp\"],\n",
    "                                            speciesTemperatures=[\"TiPerp\"],\n",
    "                                            species=[ionSpecies],\n",
    "                                            speciesDensitiesDual=[\"ni_dual\"],\n",
    "                                            degreesOfFreedom=2)\n",
    "\n",
    "rk.addModel(implicitTempModelPerp)\n"
   ]
  },
  {
   "cell_type": "code",
   "execution_count": 13,
   "metadata": {},
   "outputs": [
    {
     "name": "stdout",
     "output_type": "stream",
     "text": [
      "Checking terms in model implicitTempElPar:\n",
      "   Checking term identityTermTePar\n",
      "   Checking term wTermTePar\n",
      "   Checking term u2TermTePar\n",
      "Checking terms in model implicitTempElPerp:\n",
      "   Checking term identityTermTePerp\n",
      "   Checking term wTermTePerp\n"
     ]
    }
   ],
   "source": [
    "# Implicit temperature equations\n",
    "\n",
    "# Adding the model tag to tag list\n",
    "modelTag = \"implicitTempElPar\"\n",
    "\n",
    "# Initializing model\n",
    "implicitTempModelPar = cm.implicitTemperatures(modelTag=modelTag,\n",
    "                                            speciesFluxes=[\"Ge_dual\"],\n",
    "                                            speciesDensities=[\"ne\"],\n",
    "                                            speciesEnergies=[\"WePar\"],\n",
    "                                            speciesTemperatures=[\"TePar\"],\n",
    "                                            species=[electronSpecies],\n",
    "                                            speciesDensitiesDual=[\"ne_dual\"],\n",
    "                                            degreesOfFreedom=1)\n",
    "\n",
    "rk.addModel(implicitTempModelPar)\n",
    "\n",
    "# Adding the model tag to tag list\n",
    "modelTag = \"implicitTempElPerp\"\n",
    "\n",
    "# Initializing model\n",
    "implicitTempModelPerp = cm.implicitTemperatures(modelTag=modelTag,\n",
    "                                            speciesFluxes=[\"Ge_dual\"],\n",
    "                                            speciesDensities=[\"ne\"],\n",
    "                                            speciesEnergies=[\"WePerp\"],\n",
    "                                            speciesTemperatures=[\"TePerp\"],\n",
    "                                            species=[electronSpecies],\n",
    "                                            speciesDensitiesDual=[\"ne_dual\"],\n",
    "                                            degreesOfFreedom=2,\n",
    "                                            ignoreKineticContribution=True)\n",
    "\n",
    "rk.addModel(implicitTempModelPerp)"
   ]
  },
  {
   "attachments": {},
   "cell_type": "markdown",
   "metadata": {},
   "source": [
    "## Electron-ion energy exchange"
   ]
  },
  {
   "cell_type": "code",
   "execution_count": 14,
   "metadata": {},
   "outputs": [
    {
     "name": "stdout",
     "output_type": "stream",
     "text": [
      "Checking terms in model perpElExch:\n",
      "   Checking term nodeTerm_0\n",
      "   Checking term nodeTerm_1\n",
      "Checking terms in model parElExch:\n",
      "   Checking term nodeTerm_0\n",
      "   Checking term nodeTerm_1\n",
      "Checking terms in model perpIonExch:\n",
      "   Checking term nodeTerm_0\n",
      "   Checking term nodeTerm_1\n",
      "Checking terms in model parIonExch:\n",
      "   Checking term nodeTerm_0\n",
      "   Checking term nodeTerm_1\n"
     ]
    }
   ],
   "source": [
    "perpElExch = cm.addNodeMatrixTermModel(rk, modelTag=\"perpElExch\", evolvedVar=\"WePerp\",\n",
    "                                       termDefs=[(8*(elMass/ionMass)*Node(\"collFreq\")*Node(\"ne\")*Node(\"K200e\"),\"TiPerp\"),\n",
    "                                                 (-8*(elMass/ionMass)*Node(\"collFreq\")*Node(\"ne\")*Node(\"K200e\"),\"TePerp\")])\n",
    "\n",
    "parElExch = cm.addNodeMatrixTermModel(rk, modelTag=\"parElExch\", evolvedVar=\"WePar\",\n",
    "                                      termDefs=[(8*(elMass/ionMass)*Node(\"collFreq\")*Node(\"ne\")*Node(\"alphae\")*Node(\"K002e\"),\"TiPar\"),\n",
    "                                                (-8*(elMass/ionMass)*Node(\"collFreq\")*Node(\"ne\")*Node(\"alphae\")*Node(\"K002e\"),\"TePar\")])\n",
    "\n",
    "perpIonExch = cm.addNodeMatrixTermModel(rk, modelTag=\"perpIonExch\", evolvedVar=\"WiPerp\",\n",
    "                                        termDefs=[(8*(elMass/ionMass)*Node(\"collFreq\")*Node(\"ni\")*Node(\"K200e\"),\"TePerp\"),\n",
    "                                                  (-8*(elMass/ionMass)*Node(\"collFreq\")*Node(\"ni\")*Node(\"K200e\"),\"TiPerp\")])\n",
    "\n",
    "parIonExch = cm.addNodeMatrixTermModel(rk, modelTag=\"parIonExch\", evolvedVar=\"WiPar\",\n",
    "                                      termDefs=[(8*(elMass/ionMass)*Node(\"collFreq\")*Node(\"ni\")*Node(\"alphae\")*Node(\"K002e\"),\"TePar\"),\n",
    "                                                (-8*(elMass/ionMass)*Node(\"collFreq\")*Node(\"ni\")*Node(\"alphae\")*Node(\"K002e\"),\"TiPar\")])"
   ]
  },
  {
   "attachments": {},
   "cell_type": "markdown",
   "metadata": {},
   "source": [
    "## Temperature Isotropisation"
   ]
  },
  {
   "cell_type": "code",
   "execution_count": 15,
   "metadata": {},
   "outputs": [
    {
     "name": "stdout",
     "output_type": "stream",
     "text": [
      "Checking terms in model perpIsoEl:\n",
      "   Checking term nodeTerm_0\n",
      "   Checking term nodeTerm_1\n",
      "Checking terms in model parIsoEl:\n",
      "   Checking term nodeTerm_0\n",
      "   Checking term nodeTerm_1\n",
      "Checking terms in model perpIsoIon:\n",
      "   Checking term nodeTerm_0\n",
      "   Checking term nodeTerm_1\n",
      "Checking terms in model parIsoIon:\n",
      "   Checking term nodeTerm_0\n",
      "   Checking term nodeTerm_1\n"
     ]
    }
   ],
   "source": [
    "perpIsoEl = cm.addNodeMatrixTermModel(rk,modelTag=\"perpIsoEl\",evolvedVar=\"WePerp\",\n",
    "                                      termDefs=[(2*Node(\"collFreq\")*Node(\"K002e\")/Node(\"betaPerpe\"),\"ne\"),\n",
    "                                                (-2*Node(\"collFreq\")*Node(\"K200e\")/Node(\"betaPerpe\"),\"ne\")])\n",
    "\n",
    "parIsoEl = cm.addNodeMatrixTermModel(rk,modelTag=\"parIsoEl\",evolvedVar=\"WePar\",\n",
    "                                     termDefs=[(4*Node(\"collFreq\")*Node(\"alphae\")*Node(\"K200e\")/Node(\"betaPare\"),\"ne\"),\n",
    "                                               (-4*Node(\"collFreq\")*Node(\"alphae\")*Node(\"K002e\")/Node(\"betaPare\"),\"ne\")])\n",
    "\n",
    "perpIsoIon = cm.addNodeMatrixTermModel(rk, modelTag=\"perpIsoIon\",evolvedVar=\"WiPerp\",\n",
    "                                       termDefs=[(2*Node(\"collFreq\")*Node(\"K002i\")/Node(\"betaPerpi\"),\"ni\"),\n",
    "                                                (-2*Node(\"collFreq\")*Node(\"K200i\")/Node(\"betaPerpi\"),\"ni\")])\n",
    "\n",
    "parIsoIon = cm.addNodeMatrixTermModel(rk,modelTag=\"parIsoIon\",evolvedVar=\"WiPar\",\n",
    "                                     termDefs=[(4*Node(\"collFreq\")*Node(\"alphai\")*Node(\"K200i\")/Node(\"betaPari\"),\"ni\"),\n",
    "                                               (-4*Node(\"collFreq\")*Node(\"alphai\")*Node(\"K002i\")/Node(\"betaPari\"),\"ni\")])"
   ]
  },
  {
   "attachments": {},
   "cell_type": "markdown",
   "metadata": {},
   "source": [
    "### Integrator options"
   ]
  },
  {
   "cell_type": "code",
   "execution_count": 16,
   "metadata": {},
   "outputs": [],
   "source": [
    "integrator = sc.picardBDEIntegrator(absTol=100.0, convergenceVars=[\"WePar\",\"WePerp\", \"WiPar\", \"WiPerp\"],internalStepControl=True)\n",
    "\n",
    "rk.setPETScOptions(cliOpts=\"-pc_type bjacobi -sub_pc_factor_shift_type nonzero -sub_pc_factor_levels 1 -ksp_gmres_restart 200\",kspSolverType=\"gmres\")\n",
    "\n",
    "rk.addIntegrator(\"BE\", integrator)\n",
    "\n",
    "initialTimestep = 10\n",
    "rk.setIntegratorGlobalData(3, 2, initialTimestep)\n",
    "\n",
    "rk.addTermDiagnosisForVars([\"WePar\",\"WePerp\",\"WiPar\",\"WiPerp\"])\n",
    "\n",
    "bdeStep = sc.IntegrationStep(\"BE\", defaultEvaluateGroups=[\n",
    "                             1, 2, 3], defaultUpdateModelData=True, defaultUpdateGroups=[1, 2, 3])\n",
    "\n",
    "rk.addVar(\"scaling\", isDerived=True, derivationRule=sc.derivationRule(\"scaling\",[\"Xe\"]), derivOptions=treeDerivation(1.0/(1.0+1000*erf(Node(\"Xe\")))))\n",
    "rk.setTimestepController(sc.scalingTimestepController(reqVarNames=[\"scaling\"],reqVarPowers=[1.0]))\n",
    "\n",
    "for tag in rk.modelTags():\n",
    "    bdeStep.addModel(tag)\n",
    "\n",
    "rk.addIntegrationStep(\"StepBDE\", bdeStep.dict())\n",
    "\n",
    "rk.setFixedNumTimesteps(200)\n",
    "rk.setFixedStepOutput(2)\n",
    "rk.setRestartOptions(False, False, 1000) #Change to True when restarting"
   ]
  },
  {
   "attachments": {},
   "cell_type": "markdown",
   "metadata": {},
   "source": [
    "## Write config file"
   ]
  },
  {
   "cell_type": "code",
   "execution_count": 17,
   "metadata": {},
   "outputs": [],
   "source": [
    "rk.writeConfigFile()"
   ]
  },
  {
   "attachments": {},
   "cell_type": "markdown",
   "metadata": {},
   "source": [
    "## Data analysis"
   ]
  },
  {
   "cell_type": "code",
   "execution_count": null,
   "metadata": {},
   "outputs": [],
   "source": [
    "numFiles = 100\n",
    "loadFilenames = [hdf5Filepath+f'ReMKiT1DVarOutput_{i}.h5' for i in range(numFiles+1)]\n",
    "\n",
    "loadedData = io.loadFromHDF5(rk.varCont, filepaths=loadFilenames, isXinMeters=rk.grid)\n",
    "loadedData"
   ]
  },
  {
   "cell_type": "code",
   "execution_count": null,
   "metadata": {},
   "outputs": [],
   "source": [
    "hv.extension('matplotlib')\n",
    "%matplotlib inline\n",
    "plt.rcParams['figure.dpi'] = 150\n",
    "hv.output(size=100, dpi=150)"
   ]
  },
  {
   "cell_type": "code",
   "execution_count": null,
   "metadata": {},
   "outputs": [],
   "source": [
    "plt.figure(figsize=(4,4))\n",
    "plt.semilogx(loadedData.coords[\"time\"],loadedData[\"TePar\"][:,1],label=\"TePar\")\n",
    "plt.semilogx(loadedData.coords[\"time\"],loadedData[\"TePerp\"][:,1],label=\"TePerp\")\n",
    "plt.semilogx(loadedData.coords[\"time\"],loadedData[\"TiPar\"][:,1],label=\"TiPar\")\n",
    "plt.semilogx(loadedData.coords[\"time\"],loadedData[\"TiPerp\"][:,1],label=\"TiPerp\")\n",
    "plt.title(\"Energy Exchange and Temperature Isotropisation\\nof Electrons and Ions\")\n",
    "plt.xlabel(\"Time (arbitrary units)\")\n",
    "plt.ylabel(\"Temperature (arbitrary units)\")\n",
    "plt.legend()\n",
    "plt.show()"
   ]
  }
 ],
 "metadata": {
  "kernelspec": {
   "display_name": "Python 3 (ipykernel)",
   "language": "python",
   "name": "python3"
  },
  "language_info": {
   "codemirror_mode": {
    "name": "ipython",
    "version": 3
   },
   "file_extension": ".py",
   "mimetype": "text/x-python",
   "name": "python",
   "nbconvert_exporter": "python",
   "pygments_lexer": "ipython3",
   "version": "3.10.12"
  },
  "orig_nbformat": 4,
  "vscode": {
   "interpreter": {
    "hash": "31f2aee4e71d21fbe5cf8b01ff0e069b9275f58929596ceb00d14d90e3e16cd6"
   }
  }
 },
 "nbformat": 4,
 "nbformat_minor": 2
}
