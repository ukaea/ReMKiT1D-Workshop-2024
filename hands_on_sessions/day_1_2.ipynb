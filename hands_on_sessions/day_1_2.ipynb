{
 "cells": [
  {
   "attachments": {},
   "cell_type": "markdown",
   "metadata": {},
   "source": [
    "## Hands-on session 1.2 - advection model continued: refining with built-in models \n",
    "\n",
    "This notebook continues from session 1.1, moving away from building all terms by hand and utilizing the common_models module to refactor the existing code. The concept of adding diagnostic manipulators for individual variables to the run is also covered here.\n",
    "\n",
    "The reader is left with the exercise of adding an outflow boundary condition using one of the common models, as well as adding the advection of momentum in order to produce a shock. \n",
    "\n",
    "**NOTE**: The default gradient and divergence operators on a staggered grid are central and second-order accurate, and will produce produce grid-scale oscillations in the presence of shocks.\n",
    "\n",
    "Demonstrated concepts:\n",
    "\n",
    "- Common models for advection and pressure gradients \n",
    "- Setting outflow boundary condition on advection models\n",
    "- Querying the wrapper on added models and terms\n",
    "- Diagnostic variables and manipulators\n",
    "- Using the built-in dashboard to visualise fluid variable evolution"
   ]
  },
  {
   "cell_type": "code",
   "execution_count": null,
   "metadata": {},
   "outputs": [],
   "source": [
    "from RMK_support import RKWrapper ,Grid\n",
    "import RMK_support.simple_containers as sc\n",
    "import RMK_support.common_models as cm\n",
    "import RMK_support.IO_support as io\n",
    "\n",
    "import numpy as np\n",
    "import holoviews as hv\n",
    "import matplotlib.pyplot as plt"
   ]
  },
  {
   "attachments": {},
   "cell_type": "markdown",
   "metadata": {},
   "source": [
    "### Pre-model initialization\n",
    "\n",
    "This follows as in session 1.1"
   ]
  },
  {
   "cell_type": "code",
   "execution_count": null,
   "metadata": {},
   "outputs": [],
   "source": [
    "#Wrapper initialization\n",
    "rk = RKWrapper()\n",
    "\n",
    "#I/O setuo\n",
    "rk.jsonFilepath = \"./config.json\" \n",
    "hdf5Filepath = \"./RMKOutput/day_1_2/\"\n",
    "rk.setHDF5Path(hdf5Filepath) \n",
    "\n",
    "#MPI setup\n",
    "rk.setMPIData(numProcsX=4)\n",
    "\n",
    "# Normalization\n",
    "rk.setNormDensity(1.0e19) \n",
    "rk.setNormTemperature(10.0) \n",
    "rk.setNormRefZ(1.0) \n",
    "\n",
    "#Grid initialization\n",
    "xGridWidths = 0.025*np.ones(512)\n",
    "gridObj = Grid(xGridWidths, interpretXGridAsWidths=True)\n",
    "rk.grid = gridObj\n",
    "\n",
    "#Variables\n",
    "\n",
    "n = 1 + np.exp(-(gridObj.xGrid-np.mean(gridObj.xGrid))**2) \n",
    "T = np.ones(len(gridObj.xGrid)) \n",
    "\n",
    "rk.addVarAndDual('n',n,isCommunicated=True) \n",
    "rk.addVarAndDual('T',T,isDerived=True) \n",
    "rk.addVarAndDual('G',isCommunicated=True,primaryOnDualGrid=True) \n",
    "rk.addVarAndDual('u',isDerived=True,derivationRule=sc.derivationRule(\"flowSpeedFromFlux\",[\"G_dual\",\"n_dual\"]),primaryOnDualGrid=True,isCommunicated=True)\n",
    "rk.addVar('time',isDerived=True,isScalar=True)"
   ]
  },
  {
   "attachments": {},
   "cell_type": "markdown",
   "metadata": {},
   "source": [
    "### Models and Terms\n",
    "\n",
    "The module `common_models` is supplied to speed up the initialization of models and terms that show up often. \n",
    "\n",
    "**NOTE**: Many models in `common_models` assume the default normalization as available from `sk_normalization`.\n",
    "\n",
    "The advection model for the density variable can be added using the `common_models` function `staggeredAdvection`:"
   ]
  },
  {
   "cell_type": "code",
   "execution_count": null,
   "metadata": {},
   "outputs": [],
   "source": [
    "cm.staggeredAdvection?"
   ]
  },
  {
   "cell_type": "markdown",
   "metadata": {},
   "source": [
    "Consulting the above documentation, and remembering that the density is advected by the flow speed 'u', add an outflow boundary condition on the right side of the domain."
   ]
  },
  {
   "cell_type": "code",
   "execution_count": null,
   "metadata": {},
   "outputs": [],
   "source": [
    "rk.addModel(cm.staggeredAdvection(\"nAdvection\",\"n\",\"G_dual\")) # <- YOUR CODE HERE"
   ]
  },
  {
   "cell_type": "markdown",
   "metadata": {},
   "source": [
    "Similarly, the pressure gradient can be added in a one-liner using the `staggeredPressureGrad` function\n"
   ]
  },
  {
   "cell_type": "code",
   "execution_count": null,
   "metadata": {},
   "outputs": [],
   "source": [
    "cm.staggeredPressureGrad?"
   ]
  },
  {
   "cell_type": "markdown",
   "metadata": {},
   "source": [
    "Here we need to supply a temperature variable (hence its inclusion in session 1.1!) and species mass (this time in SI!)"
   ]
  },
  {
   "cell_type": "code",
   "execution_count": null,
   "metadata": {},
   "outputs": [],
   "source": [
    "massRatio = 1/1836\n",
    "\n",
    "rk.addModel(cm.staggeredPressureGrad('pGrad',\"G_dual\",\"n\",\"T\",9.1093837e-31/massRatio))"
   ]
  },
  {
   "cell_type": "markdown",
   "metadata": {},
   "source": [
    "The momentum equation with momentum advection is given as \n",
    "\n",
    "$$m_i \\frac{\\partial \\Gamma}{\\partial t} = - m_i\\frac{\\partial (\\Gamma u)}{\\partial x} - \\frac{\\partial (nkT)}{\\partial x}$$\n",
    "\n",
    "Look at the documentation for `staggeredAdvection`, remembering that the flux lives on the dual grid and that the velocity normalization obeys $u_0=x_0/t_0$. Use it to add another model that would implement the first RHS term in the above equation. Remember that an ouflow boundary condition is required here too!\n"
   ]
  },
  {
   "cell_type": "code",
   "execution_count": null,
   "metadata": {},
   "outputs": [],
   "source": [
    "# [YOUR CODE HERE]"
   ]
  },
  {
   "attachments": {},
   "cell_type": "markdown",
   "metadata": {},
   "source": [
    "### Time integration options\n",
    "\n",
    "These are set in the same way as in session 1.1\n"
   ]
  },
  {
   "cell_type": "code",
   "execution_count": null,
   "metadata": {},
   "outputs": [],
   "source": [
    "rk.addIntegrator(\"BE\",sc.picardBDEIntegrator(nonlinTol=1e-12,absTol=10.0,convergenceVars=['n','G_dual']) )\n",
    "\n",
    "rk.setIntegratorGlobalData(initialTimestep=0.1) \n",
    "\n",
    "bdeStep = sc.IntegrationStep(\"BE\")\n",
    "\n",
    "for tag in rk.modelTags():\n",
    "    bdeStep.addModel(tag)\n",
    "\n",
    "rk.addIntegrationStep(\"StepBDE\",bdeStep.dict())\n",
    "\n",
    "rk.setFixedNumTimesteps(10000)\n",
    "rk.setFixedStepOutput(200)"
   ]
  },
  {
   "cell_type": "markdown",
   "metadata": {},
   "source": [
    "### Query functions on the wrapper\n",
    "\n",
    "The following functions are useful when inspecting already constructed wrappers:"
   ]
  },
  {
   "cell_type": "code",
   "execution_count": null,
   "metadata": {},
   "outputs": [],
   "source": [
    "rk.varList()"
   ]
  },
  {
   "cell_type": "code",
   "execution_count": null,
   "metadata": {},
   "outputs": [],
   "source": [
    "rk.modelTags()"
   ]
  },
  {
   "cell_type": "code",
   "execution_count": null,
   "metadata": {},
   "outputs": [],
   "source": [
    "rk.getTermsThatEvolveVar('n')"
   ]
  },
  {
   "cell_type": "markdown",
   "metadata": {},
   "source": [
    "For more information on the wrapper see the [rk_wrapper](https://remkit1d-python.readthedocs.io/en/latest/RMK_support.html#module-RMK_support.rk_wrapper) documentation."
   ]
  },
  {
   "cell_type": "markdown",
   "metadata": {},
   "source": [
    "### Adding diagnostic variables\n",
    "\n",
    "In many cases we would like to inspect individual terms in various equations. One way of doing this in ReMKiT1D for custom models is to attach a set of manipulators to a variable name. This is all abstracted in the wrapper function `addTermDiagnosisForVars`\n",
    "\n",
    "Try adding diagnosis for the other evolved variable representing the flux $\\Gamma$."
   ]
  },
  {
   "cell_type": "code",
   "execution_count": null,
   "metadata": {},
   "outputs": [],
   "source": [
    "rk.addTermDiagnosisForVars(['n'])"
   ]
  },
  {
   "cell_type": "markdown",
   "metadata": {},
   "source": [
    "This has now added two new variables to evaluate terms that evolve the density and we can check this"
   ]
  },
  {
   "cell_type": "code",
   "execution_count": null,
   "metadata": {},
   "outputs": [],
   "source": [
    "rk.varList()"
   ]
  },
  {
   "attachments": {},
   "cell_type": "markdown",
   "metadata": {},
   "source": [
    "### Create config "
   ]
  },
  {
   "cell_type": "code",
   "execution_count": null,
   "metadata": {},
   "outputs": [],
   "source": [
    "rk.writeConfigFile()"
   ]
  },
  {
   "attachments": {},
   "cell_type": "markdown",
   "metadata": {},
   "source": [
    "### Set global plotting options"
   ]
  },
  {
   "cell_type": "code",
   "execution_count": null,
   "metadata": {},
   "outputs": [],
   "source": [
    "hv.extension('matplotlib')\n",
    "%matplotlib inline \n",
    "plt.rcParams['figure.dpi'] = 150\n",
    "hv.output(size=150,dpi=150)"
   ]
  },
  {
   "attachments": {},
   "cell_type": "markdown",
   "metadata": {},
   "source": [
    "### Load data from ReMKiT1D output files"
   ]
  },
  {
   "cell_type": "code",
   "execution_count": null,
   "metadata": {},
   "outputs": [],
   "source": [
    "numFiles = 50\n",
    "loadpath = hdf5Filepath\n",
    "loadFilenames = [loadpath+f'ReMKiT1DVarOutput_{i}.h5' for i in range(numFiles+1)]\n",
    "loadedData = io.loadFromHDF5(rk.varCont,filepaths=loadFilenames)\n",
    "loadedData"
   ]
  },
  {
   "cell_type": "markdown",
   "metadata": {},
   "source": [
    "### Explore data with built-in dashboard"
   ]
  },
  {
   "cell_type": "markdown",
   "metadata": {},
   "source": [
    "`RMK_support` offers a simple built-in dashboard to quickly explore variables "
   ]
  },
  {
   "cell_type": "code",
   "execution_count": null,
   "metadata": {},
   "outputs": [],
   "source": [
    "import panel as pn \n",
    "import RMK_support.dashboard_support as ds\n",
    "\n",
    "pn.extension(comms=\"vscode\") # change comms if not using VSCode\n",
    "dashboard = ds.ReMKiT1DDashboard(loadedData,rk.grid)\n",
    "\n",
    "dashboard.fluid2Comparison().show() # Removing .show() should display the dashboard inline - this can be buggy in some situations\n"
   ]
  }
 ],
 "metadata": {
  "kernelspec": {
   "display_name": "Python 3",
   "language": "python",
   "name": "python3"
  },
  "language_info": {
   "codemirror_mode": {
    "name": "ipython",
    "version": 3
   },
   "file_extension": ".py",
   "mimetype": "text/x-python",
   "name": "python",
   "nbconvert_exporter": "python",
   "pygments_lexer": "ipython3",
   "version": "3.8.10"
  },
  "orig_nbformat": 4,
  "vscode": {
   "interpreter": {
    "hash": "31f2aee4e71d21fbe5cf8b01ff0e069b9275f58929596ceb00d14d90e3e16cd6"
   }
  }
 },
 "nbformat": 4,
 "nbformat_minor": 2
}
